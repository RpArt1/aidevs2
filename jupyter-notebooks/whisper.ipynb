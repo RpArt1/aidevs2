{
 "cells": [
  {
   "cell_type": "markdown",
   "metadata": {},
   "source": [
    "# How to use Whisper\n",
    "usage is quite simple 2 step required:\n",
    "1. open file in read \"r\" & binary \"b\" modes \n",
    "2. feed that file for whisper model "
   ]
  },
  {
   "cell_type": "code",
   "execution_count": null,
   "metadata": {},
   "outputs": [],
   "source": [
    "from openai import OpenAI\n",
    "from utils.config import Config\n",
    "\n",
    "# open file \n",
    "audio_file = open(\"various/task.mp3\", \"rb\")\n",
    "\n",
    "# call whisper model for that file\n",
    "client = OpenAI(api_key=Config().open_api_key)\n",
    "whisper_response = client.audio.transcriptions.create(\n",
    "    model=\"whisper-1\", \n",
    "    file=audio_file\n",
    ")\n",
    "transcript = whisper_response.text\n",
    "print(f\"Trancription => {transcript}\")"
   ]
  }
 ],
 "metadata": {
  "kernelspec": {
   "display_name": "Python 3",
   "language": "python",
   "name": "python3"
  },
  "language_info": {
   "codemirror_mode": {
    "name": "ipython",
    "version": 3
   },
   "file_extension": ".py",
   "mimetype": "text/x-python",
   "name": "python",
   "nbconvert_exporter": "python",
   "pygments_lexer": "ipython3",
   "version": "3.10.12"
  }
 },
 "nbformat": 4,
 "nbformat_minor": 2
}
