{
 "cells": [
  {
   "cell_type": "markdown",
   "metadata": {},
   "source": [
    "# Basic call for compeletion "
   ]
  },
  {
   "cell_type": "code",
   "execution_count": null,
   "metadata": {},
   "outputs": [],
   "source": [
    "from openai import OpenAI\n",
    "from os import environ\n",
    "# get clinet with key from environment variable\n",
    "client = OpenAI(api_key=environ.get('OPENAI_API_KEY'))\n",
    "\n",
    "\n",
    "response = client.chat.completions.create(\n",
    "    model=\"gpt-3.5-turbo\",\n",
    "    messages=[\n",
    "      {\"role\": \"user\", \"content\": \"Write short paragraph about pirates\"}\n",
    "    ]\n",
    ")\n"
   ]
  },
  {
   "cell_type": "markdown",
   "metadata": {},
   "source": [
    "# Whisper → audio transription\n",
    "usage is quite simple 2 step required:\n",
    "1. open file in read \"r\" & binary \"b\" modes \n",
    "2. feed that file for whisper model "
   ]
  },
  {
   "cell_type": "code",
   "execution_count": null,
   "metadata": {},
   "outputs": [],
   "source": [
    "from openai import OpenAI\n",
    "from os import environ\n",
    "# get clinet with key from environment variable\n",
    "client = OpenAI(api_key=environ.get('OPENAI_API_KEY'))\n",
    "\n",
    "\n",
    "# open file \n",
    "audio_file = open(\"various/task.mp3\", \"rb\")\n",
    "\n",
    "# call whisper model for that file\n",
    "whisper_response = client.audio.transcriptions.create(\n",
    "    model=\"whisper-1\", \n",
    "    file=audio_file\n",
    ")\n",
    "transcript = whisper_response.text\n",
    "print(f\"Trancription => {transcript}\")"
   ]
  },
  {
   "cell_type": "markdown",
   "metadata": {},
   "source": [
    "# Embedding example"
   ]
  },
  {
   "cell_type": "code",
   "execution_count": null,
   "metadata": {},
   "outputs": [],
   "source": [
    "from langchain.embeddings.openai import OpenAIEmbeddings\n",
    "import logging\n",
    "\n",
    "embeddings = OpenAIEmbeddings(model=\"text-embedding-ada-002\")\n",
    "try:\n",
    "    query_result = embeddings.embed_query(\"dog\")\n",
    "    print(f\"Embedded answer is: {query_result}\")\n",
    "except Exception as e:\n",
    "    logging.error(f\"Exception occurred: {e}\")\n",
    "    None\n"
   ]
  },
  {
   "cell_type": "markdown",
   "metadata": {},
   "source": []
  }
 ],
 "metadata": {
  "kernelspec": {
   "display_name": "Python 3",
   "language": "python",
   "name": "python3"
  },
  "language_info": {
   "codemirror_mode": {
    "name": "ipython",
    "version": 3
   },
   "file_extension": ".py",
   "mimetype": "text/x-python",
   "name": "python",
   "nbconvert_exporter": "python",
   "pygments_lexer": "ipython3",
   "version": "3.10.12"
  }
 },
 "nbformat": 4,
 "nbformat_minor": 2
}
